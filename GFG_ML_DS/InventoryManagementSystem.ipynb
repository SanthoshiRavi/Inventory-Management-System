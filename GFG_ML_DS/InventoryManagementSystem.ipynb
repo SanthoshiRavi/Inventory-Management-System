{
 "cells": [
  {
   "cell_type": "code",
   "execution_count": 2,
   "id": "80add7ec",
   "metadata": {},
   "outputs": [],
   "source": [
    "fd=open('Inventory.txt','w');\n",
    "fd.close;"
   ]
  },
  {
   "cell_type": "markdown",
   "id": "87c4f414",
   "metadata": {},
   "source": [
    "### Fields in it:\n",
    "1. Product id\n",
    "2. Name of the product\n",
    "3. Price of the product\n",
    "4. Quantity"
   ]
  },
  {
   "cell_type": "code",
   "execution_count": 6,
   "id": "97a5ed98",
   "metadata": {
    "scrolled": true
   },
   "outputs": [
    {
     "name": "stdout",
     "output_type": "stream",
     "text": [
      "1,5 Star,5,100\n",
      "2,Milky bar,5,100\n",
      "3,Cake,300,5\n",
      "4,Candy,10,60\n",
      "\n"
     ]
    }
   ],
   "source": [
    "fd=open(\"Inventory.txt\",'r');\n",
    "txt=fd.read();\n",
    "fd.close();\n",
    "print(txt);"
   ]
  },
  {
   "cell_type": "code",
   "execution_count": 7,
   "id": "1daaa20b",
   "metadata": {},
   "outputs": [
    {
     "data": {
      "text/plain": [
       "'1,5 Star,5,100\\n2,Milky bar,5,100\\n3,Cake,300,5\\n4,Candy,10,60\\n'"
      ]
     },
     "execution_count": 7,
     "metadata": {},
     "output_type": "execute_result"
    }
   ],
   "source": [
    "txt"
   ]
  },
  {
   "cell_type": "code",
   "execution_count": 14,
   "id": "cead193d",
   "metadata": {},
   "outputs": [
    {
     "data": {
      "text/plain": [
       "['1,5 Star,5,100', '2,Milky bar,5,100', '3,Cake,300,5', '4,Candy,10,60', '']"
      ]
     },
     "execution_count": 14,
     "metadata": {},
     "output_type": "execute_result"
    }
   ],
   "source": [
    "txt.split('\\n')"
   ]
  },
  {
   "cell_type": "code",
   "execution_count": 16,
   "id": "fd2fbe54",
   "metadata": {},
   "outputs": [],
   "source": [
    "fd=open('Inventory.txt','r')\n",
    "products=fd.read().split('\\n')\n",
    "fd.close()"
   ]
  },
  {
   "cell_type": "code",
   "execution_count": 19,
   "id": "92667ad2",
   "metadata": {},
   "outputs": [
    {
     "name": "stdout",
     "output_type": "stream",
     "text": [
      "1,5 Star,5,100\n",
      "2,Milky bar,5,100\n",
      "3,Cake,300,5\n",
      "4,Candy,10,60\n"
     ]
    }
   ],
   "source": [
    "for product in products:\n",
    "    print(product)"
   ]
  },
  {
   "cell_type": "code",
   "execution_count": 21,
   "id": "48ddfd08",
   "metadata": {},
   "outputs": [
    {
     "name": "stdout",
     "output_type": "stream",
     "text": [
      "['1', '5 Star', '5', '100']\n",
      "['2', 'Milky bar', '5', '100']\n",
      "['3', 'Cake', '300', '5']\n",
      "['4', 'Candy', '10', '60']\n"
     ]
    }
   ],
   "source": [
    "for product in products:\n",
    "    print(product.split(','))"
   ]
  },
  {
   "cell_type": "markdown",
   "id": "6fa83b08",
   "metadata": {},
   "source": [
    "### Printing bill"
   ]
  },
  {
   "cell_type": "code",
   "execution_count": 26,
   "id": "d3ec2c1a",
   "metadata": {},
   "outputs": [
    {
     "name": "stdout",
     "output_type": "stream",
     "text": [
      "Enter the product id:2\n",
      "Enter the quantity:3\n",
      "Name:             Milky bar\n",
      "Quantity:         3\n",
      "Price/quantity:   5\n",
      "----------------------------------\n",
      "Billing price:    15\n",
      "----------------------------------\n"
     ]
    }
   ],
   "source": [
    "ui_id=input(\"Enter the product id:\")\n",
    "ui_quant=input(\"Enter the quantity:\")\n",
    "for product in products:\n",
    "    prod_details=product.split(',');\n",
    "    if(ui_id==prod_details[0]):\n",
    "        print(\"Name:            \",prod_details[1])\n",
    "        print(\"Quantity:        \",ui_quant)\n",
    "        print(\"Price/quantity:  \",prod_details[2])\n",
    "        print('----------------------------------')\n",
    "        print(\"Billing price:   \",int(ui_quant)*int(prod_details[2]))\n",
    "        print('----------------------------------')\n",
    "        "
   ]
  },
  {
   "cell_type": "markdown",
   "id": "15a7d5c0",
   "metadata": {},
   "source": [
    "### Updating the quantity in inventory.txt"
   ]
  },
  {
   "cell_type": "code",
   "execution_count": 31,
   "id": "317b9b2f",
   "metadata": {},
   "outputs": [
    {
     "name": "stdout",
     "output_type": "stream",
     "text": [
      "Enter the product ID:1\n",
      "Enter product quantity:3\n",
      "Name:             5 Star\n",
      "Quantity before:  100\n",
      "Price/quantity:   5\n",
      "----------------------------------\n",
      "Billing price:    15\n",
      "----------------------------------\n",
      "Quantity after:   97\n",
      "1,5 Star,5,97\n",
      "2,Milky bar,5,100\n",
      "3,Cake,300,5\n",
      "4,Candy,10,60\n"
     ]
    }
   ],
   "source": [
    "ui_prod_id = input(\"Enter the product ID:\")\n",
    "ui_prod_qn = input(\"Enter product quantity:\")\n",
    "updated_prod_lst = []\n",
    "product_found = False\n",
    "\n",
    "for product in products:\n",
    "    prod_details = product.split(',')\n",
    "    if prod_details[0] == ui_prod_id:\n",
    "        product_found = True\n",
    "        print(\"Name:            \", prod_details[1])\n",
    "        print(\"Quantity before: \", prod_details[3])\n",
    "        print(\"Price/quantity:  \", prod_details[2])\n",
    "        print('----------------------------------')\n",
    "        print(\"Billing price:   \", int(ui_prod_qn) * int(prod_details[2]))\n",
    "        print('----------------------------------')\n",
    "        \n",
    "        # Update quantity\n",
    "        prod_details[3] = str(int(prod_details[3]) - int(ui_prod_qn))\n",
    "        print(\"Quantity after:  \", prod_details[3])\n",
    "        \n",
    "    updated_prod_lst.append(','.join(prod_details))\n",
    "\n",
    "if not product_found:\n",
    "    print(\"Product ID not found in the inventory.\")\n",
    "\n",
    "# Debugging - to check the final list content before writing to the file\n",
    "for item in updated_prod_lst:\n",
    "    print(item)\n",
    "\n",
    "# Write the updated list back to the file\n",
    "with open('Inventory.txt', 'w') as fd:\n",
    "    for item in updated_prod_lst:\n",
    "        fd.write(item + \"\\n\")  # Ensure each product entry is on a new line\n"
   ]
  },
  {
   "cell_type": "markdown",
   "id": "3a703002",
   "metadata": {},
   "source": [
    "### Updating inventory by checking for available product quantity"
   ]
  },
  {
   "cell_type": "code",
   "execution_count": 34,
   "id": "b4cc1419",
   "metadata": {},
   "outputs": [
    {
     "name": "stdout",
     "output_type": "stream",
     "text": [
      "Enter the product ID:3\n",
      "Enter product quantity:10\n",
      "Sorry we are not having enough quantity.\n",
      "We are having only  5  quantity\n",
      "Would you like to purchase?[Y/N]:y\n",
      "Name:             Cake\n",
      "Quantity before:  5\n",
      "Price/quantity:   300\n",
      "----------------------------------\n",
      "Billing price:    1500\n",
      "----------------------------------\n",
      "1,5 Star,5,100\n",
      "2,Milky bar,5,100\n",
      "3,Cake,300,0\n",
      "4,Candy,10,60\n",
      "---------------------------\n",
      "Inventory updated\n"
     ]
    }
   ],
   "source": [
    "ui_prod_id = input(\"Enter the product ID:\")\n",
    "ui_prod_qn = input(\"Enter product quantity:\")\n",
    "updated_prod_lst = []\n",
    "product_found = False\n",
    "\n",
    "for product in products:\n",
    "    prod_details = product.split(',')\n",
    "    if prod_details[0] == ui_prod_id:\n",
    "        product_found = True\n",
    "        if int(ui_prod_qn) <= int(prod_details[3]):  # Ensure integers are compared\n",
    "            print(\"Name:            \", prod_details[1])\n",
    "            print(\"Quantity before: \", prod_details[3])\n",
    "            print(\"Price/quantity:  \", prod_details[2])\n",
    "            print('----------------------------------')\n",
    "            print(\"Billing price:   \", int(ui_prod_qn) * int(prod_details[2]))\n",
    "            print('----------------------------------')\n",
    "            # Update quantity\n",
    "            prod_details[3] = str(int(prod_details[3]) - int(ui_prod_qn))\n",
    "            print(\"Quantity after:  \", prod_details[3])\n",
    "        else:\n",
    "            print(\"Sorry we are not having enough quantity.\")\n",
    "            print(\"We are having only \", prod_details[3], \" quantity\")\n",
    "            ch = input(\"Would you like to purchase?[Y/N]:\")\n",
    "            if ch.lower() == 'y':\n",
    "                print(\"Name:            \", prod_details[1])\n",
    "                print(\"Quantity before: \", prod_details[3])\n",
    "                print(\"Price/quantity:  \", prod_details[2])\n",
    "                print('----------------------------------')\n",
    "                print(\"Billing price:   \", int(prod_details[3]) * int(prod_details[2]))\n",
    "                print('----------------------------------')\n",
    "                prod_details[3] = '0'\n",
    "            else:\n",
    "                print(\"Thanks\")\n",
    "        updated_prod_lst.append(','.join(prod_details))\n",
    "    else:\n",
    "        updated_prod_lst.append(','.join(prod_details))\n",
    "\n",
    "if not product_found:\n",
    "    print(\"Product ID not found in the inventory.\")\n",
    "\n",
    "# Debugging - to check the final list content before writing to the file\n",
    "for item in updated_prod_lst:\n",
    "    print(item)\n",
    "\n",
    "# Write the updated list back to the file\n",
    "with open('Inventory.txt', 'w') as fd:\n",
    "    for item in updated_prod_lst:\n",
    "        fd.write(item + \"\\n\")  # Ensure each product entry is on a new line\n",
    "print(\"---------------------------\")\n",
    "print(\"Inventory updated\")\n"
   ]
  },
  {
   "cell_type": "markdown",
   "id": "4bbeec4f",
   "metadata": {},
   "source": [
    "### Generating sales.txt file that holds basic transaction details:"
   ]
  },
  {
   "cell_type": "code",
   "execution_count": 36,
   "id": "bf7a776f",
   "metadata": {},
   "outputs": [
    {
     "name": "stdout",
     "output_type": "stream",
     "text": [
      "Enter your name:Santhoshi \n",
      "Enter your phone no:9150045461\n",
      "Enter your mail:santhohope@gmail.com\n",
      "Enter the product ID:1\n",
      "Enter product quantity:5\n",
      "Name:             5 Star\n",
      "Quantity before:  100\n",
      "Price/quantity:   5\n",
      "----------------------------------\n",
      "Billing price:    25\n",
      "----------------------------------\n",
      "Quantity after:   95\n",
      "1,5 Star,5,95\n",
      "2,Milky bar,5,100\n",
      "3,Cake,300,5\n",
      "4,Candy,10,60\n",
      "---------------------------\n",
      "Inventory updated\n"
     ]
    }
   ],
   "source": [
    "import time as time\n",
    "ui_name=input(\"Enter your name:\")\n",
    "ui_phone=input(\"Enter your phone no:\")\n",
    "ui_mail=input(\"Enter your mail:\")\n",
    "ui_prod_id = input(\"Enter the product ID:\")\n",
    "ui_prod_qn = input(\"Enter product quantity:\")\n",
    "updated_prod_lst = []\n",
    "product_found = False\n",
    "\n",
    "for product in products:\n",
    "    prod_details = product.split(',')\n",
    "    if prod_details[0] == ui_prod_id:\n",
    "        product_found = True\n",
    "        if int(ui_prod_qn) <= int(prod_details[3]):  # Ensure integers are compared\n",
    "            print(\"Name:            \", prod_details[1])\n",
    "            print(\"Quantity before: \", prod_details[3])\n",
    "            print(\"Price/quantity:  \", prod_details[2])\n",
    "            print('----------------------------------')\n",
    "            print(\"Billing price:   \", int(ui_prod_qn) * int(prod_details[2]))\n",
    "            print('----------------------------------')\n",
    "            # Update quantity\n",
    "            prod_details[3] = str(int(prod_details[3]) - int(ui_prod_qn))\n",
    "            print(\"Quantity after:  \", prod_details[3])\n",
    "            fd=open('Sales.txt','a')\n",
    "            sales_detail=ui_name+\",\"+ui_phone+\",\"+ui_mail+\",\"+ui_prod_id+\",\"+ui_prod_qn+\",\"+str(int(ui_prod_qn) * int(prod_details[2]))+\",\"+time.ctime()+\"\\n\"\n",
    "            fd.write(sales_detail)\n",
    "            fd.close()\n",
    "        else:\n",
    "            print(\"Sorry we are not having enough quantity.\")\n",
    "            print(\"We are having only \", prod_details[3], \" quantity\")\n",
    "            ch = input(\"Would you like to purchase?[Y/N]:\")\n",
    "            if ch.lower() == 'y':\n",
    "                print(\"Name:            \", prod_details[1])\n",
    "                print(\"Quantity before: \", prod_details[3])\n",
    "                print(\"Price/quantity:  \", prod_details[2])\n",
    "                print('----------------------------------')\n",
    "                print(\"Billing price:   \", int(prod_details[3]) * int(prod_details[2]))\n",
    "                print('----------------------------------')\n",
    "                prod_details[3] = '0'\n",
    "            else:\n",
    "                print(\"Thanks\")\n",
    "        updated_prod_lst.append(','.join(prod_details))\n",
    "    else:\n",
    "        updated_prod_lst.append(','.join(prod_details))\n",
    "\n",
    "if not product_found:\n",
    "    print(\"Product ID not found in the inventory.\")\n",
    "\n",
    "# Debugging - to check the final list content before writing to the file\n",
    "for item in updated_prod_lst:\n",
    "    print(item)\n",
    "\n",
    "# Write the updated list back to the file\n",
    "with open('Inventory.txt', 'w') as fd:\n",
    "    for item in updated_prod_lst:\n",
    "        fd.write(item + \"\\n\")  # Ensure each product entry is on a new line\n",
    "print(\"---------------------------\")\n",
    "print(\"Inventory updated\")\n"
   ]
  }
 ],
 "metadata": {
  "kernelspec": {
   "display_name": "Python 3 (ipykernel)",
   "language": "python",
   "name": "python3"
  },
  "language_info": {
   "codemirror_mode": {
    "name": "ipython",
    "version": 3
   },
   "file_extension": ".py",
   "mimetype": "text/x-python",
   "name": "python",
   "nbconvert_exporter": "python",
   "pygments_lexer": "ipython3",
   "version": "3.10.9"
  }
 },
 "nbformat": 4,
 "nbformat_minor": 5
}
