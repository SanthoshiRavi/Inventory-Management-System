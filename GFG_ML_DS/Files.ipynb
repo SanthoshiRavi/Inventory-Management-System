{
 "cells": [
  {
   "cell_type": "code",
   "execution_count": 7,
   "id": "cd2981d8",
   "metadata": {},
   "outputs": [
    {
     "name": "stdout",
     "output_type": "stream",
     "text": [
      "Hey. This is Santhoshi R who is trying hard to master machine learning and data science through this gfg course. Fighting.\n"
     ]
    }
   ],
   "source": [
    "fd=open('data.txt','r');\n",
    "txt=fd.read();\n",
    "print(txt);\n",
    "fd.close();"
   ]
  },
  {
   "cell_type": "code",
   "execution_count": 6,
   "id": "980ad138",
   "metadata": {},
   "outputs": [
    {
     "name": "stdout",
     "output_type": "stream",
     "text": [
      "Hello\n"
     ]
    }
   ],
   "source": [
    "print(\"Hello\");"
   ]
  },
  {
   "cell_type": "code",
   "execution_count": null,
   "id": "b854d5dc",
   "metadata": {},
   "outputs": [],
   "source": []
  }
 ],
 "metadata": {
  "kernelspec": {
   "display_name": "Python 3 (ipykernel)",
   "language": "python",
   "name": "python3"
  },
  "language_info": {
   "codemirror_mode": {
    "name": "ipython",
    "version": 3
   },
   "file_extension": ".py",
   "mimetype": "text/x-python",
   "name": "python",
   "nbconvert_exporter": "python",
   "pygments_lexer": "ipython3",
   "version": "3.10.9"
  }
 },
 "nbformat": 4,
 "nbformat_minor": 5
}
